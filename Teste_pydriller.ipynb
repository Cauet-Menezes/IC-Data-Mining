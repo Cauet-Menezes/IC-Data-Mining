{
  "nbformat": 4,
  "nbformat_minor": 0,
  "metadata": {
    "colab": {
      "provenance": [],
      "authorship_tag": "ABX9TyOaECPRDM6NuxZLnq1kl30Q",
      "include_colab_link": true
    },
    "kernelspec": {
      "name": "python3",
      "display_name": "Python 3"
    },
    "language_info": {
      "name": "python"
    }
  },
  "cells": [
    {
      "cell_type": "markdown",
      "metadata": {
        "id": "view-in-github",
        "colab_type": "text"
      },
      "source": [
        "<a href=\"https://colab.research.google.com/github/Cauet-Menezes/IC-Data-Mining/blob/main/Teste_pydriller.ipynb\" target=\"_parent\"><img src=\"https://colab.research.google.com/assets/colab-badge.svg\" alt=\"Open In Colab\"/></a>"
      ]
    },
    {
      "cell_type": "code",
      "source": [
        "pip install pydriller\n"
      ],
      "metadata": {
        "colab": {
          "base_uri": "https://localhost:8080/"
        },
        "id": "U2KdmRlME8IT",
        "outputId": "36a056e1-a1e8-484e-93ea-2672d28e6e34"
      },
      "execution_count": 2,
      "outputs": [
        {
          "output_type": "stream",
          "name": "stdout",
          "text": [
            "Collecting pydriller\n",
            "  Downloading PyDriller-2.6-py3-none-any.whl.metadata (1.3 kB)\n",
            "Collecting gitpython (from pydriller)\n",
            "  Downloading GitPython-3.1.43-py3-none-any.whl.metadata (13 kB)\n",
            "Requirement already satisfied: pytz in /usr/local/lib/python3.10/dist-packages (from pydriller) (2024.1)\n",
            "Requirement already satisfied: types-pytz in /usr/local/lib/python3.10/dist-packages (from pydriller) (2024.1.0.20240417)\n",
            "Collecting lizard (from pydriller)\n",
            "  Downloading lizard-1.17.10-py2.py3-none-any.whl.metadata (15 kB)\n",
            "Collecting gitdb<5,>=4.0.1 (from gitpython->pydriller)\n",
            "  Downloading gitdb-4.0.11-py3-none-any.whl.metadata (1.2 kB)\n",
            "Collecting smmap<6,>=3.0.1 (from gitdb<5,>=4.0.1->gitpython->pydriller)\n",
            "  Downloading smmap-5.0.1-py3-none-any.whl.metadata (4.3 kB)\n",
            "Downloading PyDriller-2.6-py3-none-any.whl (33 kB)\n",
            "Downloading GitPython-3.1.43-py3-none-any.whl (207 kB)\n",
            "\u001b[2K   \u001b[90m━━━━━━━━━━━━━━━━━━━━━━━━━━━━━━━━━━━━━━━━\u001b[0m \u001b[32m207.3/207.3 kB\u001b[0m \u001b[31m3.0 MB/s\u001b[0m eta \u001b[36m0:00:00\u001b[0m\n",
            "\u001b[?25hDownloading lizard-1.17.10-py2.py3-none-any.whl (66 kB)\n",
            "\u001b[2K   \u001b[90m━━━━━━━━━━━━━━━━━━━━━━━━━━━━━━━━━━━━━━━━\u001b[0m \u001b[32m66.0/66.0 kB\u001b[0m \u001b[31m4.3 MB/s\u001b[0m eta \u001b[36m0:00:00\u001b[0m\n",
            "\u001b[?25hDownloading gitdb-4.0.11-py3-none-any.whl (62 kB)\n",
            "\u001b[2K   \u001b[90m━━━━━━━━━━━━━━━━━━━━━━━━━━━━━━━━━━━━━━━━\u001b[0m \u001b[32m62.7/62.7 kB\u001b[0m \u001b[31m3.8 MB/s\u001b[0m eta \u001b[36m0:00:00\u001b[0m\n",
            "\u001b[?25hDownloading smmap-5.0.1-py3-none-any.whl (24 kB)\n",
            "Installing collected packages: lizard, smmap, gitdb, gitpython, pydriller\n",
            "Successfully installed gitdb-4.0.11 gitpython-3.1.43 lizard-1.17.10 pydriller-2.6 smmap-5.0.1\n"
          ]
        }
      ]
    },
    {
      "cell_type": "code",
      "execution_count": 3,
      "metadata": {
        "id": "xwN3X5EREuoz"
      },
      "outputs": [],
      "source": [
        "from pydriller import Repository\n",
        "import pandas as pd"
      ]
    },
    {
      "cell_type": "code",
      "source": [
        "# Lista para armazenar os dados dos commits\n",
        "commits_data = []\n",
        "\n",
        "# Percorrendo os commits do repositório\n",
        "for commit in Repository('https://github.com/GustavoCarvalho25/BlogPessoalFrontEnd').traverse_commits():\n",
        "    # Armazenando os dados em um dicionário\n",
        "    commit_info = {\n",
        "        'hash': commit.hash,\n",
        "        'message': commit.msg,\n",
        "        'author': commit.author.name,\n",
        "        #'date': commit.author_date\n",
        "    }\n",
        "    # Adicionando o dicionário à lista\n",
        "    commits_data.append(commit_info)\n",
        "\n",
        "# Convertendo a lista de dicionários para um DataFrame do pandas\n",
        "df = pd.DataFrame(commits_data)\n",
        "\n",
        "df.to_excel('dados.xlsx')\n"
      ],
      "metadata": {
        "id": "T0J73OueFCPW"
      },
      "execution_count": 5,
      "outputs": []
    }
  ]
}